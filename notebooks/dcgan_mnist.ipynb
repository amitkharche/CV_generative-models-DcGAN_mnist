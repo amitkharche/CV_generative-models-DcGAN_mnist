{
 "cells": [
  {
   "cell_type": "markdown",
   "metadata": {},
   "source": [
    "# DCGAN for MNIST
",
    "Generate handwritten digits using Deep Convolutional GAN"
   ]
  },
  {
   "cell_type": "code",
   "metadata": {},
   "source": [
    "!python ../src/train.py"
   ],
   "execution_count": null,
   "outputs": []
  }
 ],
 "metadata": {
  "kernelspec": {
   "display_name": "Python 3",
   "language": "python",
   "name": "python3"
  },
  "language_info": {
   "name": "python",
   "version": ""
  }
 },
 "nbformat": 4,
 "nbformat_minor": 5
}
